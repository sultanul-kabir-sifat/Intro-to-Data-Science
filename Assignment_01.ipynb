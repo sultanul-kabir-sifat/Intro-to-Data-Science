{
  "nbformat": 4,
  "nbformat_minor": 0,
  "metadata": {
    "colab": {
      "provenance": []
    },
    "kernelspec": {
      "name": "python3",
      "display_name": "Python 3"
    },
    "language_info": {
      "name": "python"
    }
  },
  "cells": [
    {
      "cell_type": "code",
      "execution_count": null,
      "metadata": {
        "id": "WZDcvf4HWRt0"
      },
      "outputs": [],
      "source": [
        "import pandas as pd"
      ]
    },
    {
      "cell_type": "code",
      "source": [
        "import numpy as np"
      ],
      "metadata": {
        "id": "3e1mL19-XLwz"
      },
      "execution_count": null,
      "outputs": []
    },
    {
      "cell_type": "markdown",
      "source": [
        "**Solution to Problem 1**"
      ],
      "metadata": {
        "id": "5hFb_NBglWB4"
      }
    },
    {
      "cell_type": "code",
      "source": [
        "string = \"google.com\"\n",
        "char_freq = {}\n",
        "\n",
        "# Count the frequency of each character\n",
        "for char in string:\n",
        "    if char in char_freq:\n",
        "        char_freq[char] += 1\n",
        "    else:\n",
        "        char_freq[char] = 1\n",
        "\n",
        "# Print the dictionary of character frequencies\n",
        "print(char_freq)"
      ],
      "metadata": {
        "colab": {
          "base_uri": "https://localhost:8080/"
        },
        "id": "CXLWKGJSXrP4",
        "outputId": "107212ae-65e9-4e3b-bda0-50311eb5023d"
      },
      "execution_count": 3,
      "outputs": [
        {
          "output_type": "stream",
          "name": "stdout",
          "text": [
            "{'g': 2, 'o': 3, 'l': 1, 'e': 1, '.': 1, 'c': 1, 'm': 1}\n"
          ]
        }
      ]
    },
    {
      "cell_type": "markdown",
      "source": [
        "**Solution to Problem 2**"
      ],
      "metadata": {
        "id": "n0ODaSXUYpZn"
      }
    },
    {
      "cell_type": "code",
      "source": [
        "# Sample dictionary\n",
        "d = {'a': 1, 'b': 2, 'c': 3}\n",
        "\n",
        "# Check if a key exists in the dictionary\n",
        "key = 'b'\n",
        "if key in d:\n",
        "    print(f\"The key '{key}' exists in the dictionary.\")\n",
        "else:\n",
        "    print(f\"The key '{key}' does not exist in the dictionary.\")\n"
      ],
      "metadata": {
        "colab": {
          "base_uri": "https://localhost:8080/"
        },
        "id": "VPee3cLiYjdV",
        "outputId": "7099d82d-fa67-413e-d5bb-97dc89c4f2fb"
      },
      "execution_count": 11,
      "outputs": [
        {
          "output_type": "stream",
          "name": "stdout",
          "text": [
            "The key 'b' exists in the dictionary.\n"
          ]
        }
      ]
    },
    {
      "cell_type": "markdown",
      "source": [
        "**Solution to Problem 3**"
      ],
      "metadata": {
        "id": "oUTFojJRlj_p"
      }
    },
    {
      "cell_type": "code",
      "source": [
        "# Accept comma-separated numbers from user input\n",
        "num_sequence = input(\"Enter a sequence of comma-separated numbers: \")\n",
        "\n",
        "# Convert the sequence of numbers to a list and tuple\n",
        "num_list = num_sequence.split(',')\n",
        "num_tuple = tuple(num_list)\n",
        "\n",
        "# Print the list and tuple of numbers\n",
        "print(\"List: \", num_list)\n",
        "print(\"Tuple:\", num_tuple)\n"
      ],
      "metadata": {
        "colab": {
          "base_uri": "https://localhost:8080/"
        },
        "id": "YmYsZWYqlDjI",
        "outputId": "3ae07414-dd72-4730-c78d-7ffcbd1d0bda"
      },
      "execution_count": 4,
      "outputs": [
        {
          "output_type": "stream",
          "name": "stdout",
          "text": [
            "Enter a sequence of comma-separated numbers: 1, 5, 7, 23\n",
            "List:  ['1', ' 5', ' 7', ' 23']\n",
            "Tuple: ('1', ' 5', ' 7', ' 23')\n"
          ]
        }
      ]
    },
    {
      "cell_type": "markdown",
      "source": [
        "**Solution to Problem 4**"
      ],
      "metadata": {
        "id": "3I9jl0vLmmyc"
      }
    },
    {
      "cell_type": "code",
      "source": [
        "from datetime import date\n",
        "\n",
        "# Define the two dates\n",
        "date1 = date(2014, 7, 2)\n",
        "date2 = date(2014, 7, 11)\n",
        "\n",
        "# Calculate the number of days between the two dates\n",
        "delta = date2 - date1\n",
        "num_days = delta.days\n",
        "\n",
        "# Print the number of days between the two dates\n",
        "print(\"Number of days between\", date1, \"and\", date2, \"is:\", num_days)\n"
      ],
      "metadata": {
        "colab": {
          "base_uri": "https://localhost:8080/"
        },
        "id": "_DSDKJE9lTC6",
        "outputId": "7db67f48-16c9-4df9-9fa9-e1b27eafce6f"
      },
      "execution_count": 2,
      "outputs": [
        {
          "output_type": "stream",
          "name": "stdout",
          "text": [
            "Number of days between 2014-07-02 and 2014-07-11 is: 9\n"
          ]
        }
      ]
    },
    {
      "cell_type": "markdown",
      "source": [
        "**Solution to Problem 5**"
      ],
      "metadata": {
        "id": "8Rdrzi5snx16"
      }
    },
    {
      "cell_type": "code",
      "source": [
        "# Define the values of x and y\n",
        "x = 4\n",
        "y = 3\n",
        "\n",
        "# Calculate the result of (x + y) * (x + y)\n",
        "result = (x + y) ** 2\n",
        "\n",
        "# Print the result\n",
        "print(\"({} + {}) ^ 2 = {}\".format(x, y, result))\n"
      ],
      "metadata": {
        "colab": {
          "base_uri": "https://localhost:8080/"
        },
        "id": "iCMKbHvHnqwS",
        "outputId": "739c6849-c186-45d1-e7dc-6dc82017d8df"
      },
      "execution_count": 1,
      "outputs": [
        {
          "output_type": "stream",
          "name": "stdout",
          "text": [
            "(4 + 3) ^ 2 = 49\n"
          ]
        }
      ]
    },
    {
      "cell_type": "markdown",
      "source": [
        "**Solution to Problem 6**"
      ],
      "metadata": {
        "id": "y2ElBdXbVGNB"
      }
    },
    {
      "cell_type": "code",
      "source": [
        "amt = 10000\n",
        "int_rate = 3.5\n",
        "years = 7\n",
        "\n",
        "future_value = amt * (1 + int_rate/100)**years\n",
        "\n",
        "print(\"Future value: \", round(future_value, 2))\n"
      ],
      "metadata": {
        "colab": {
          "base_uri": "https://localhost:8080/"
        },
        "id": "hJqjQeFgVFsE",
        "outputId": "01d701ee-14a7-480d-8908-4dcadc9f32ae"
      },
      "execution_count": 5,
      "outputs": [
        {
          "output_type": "stream",
          "name": "stdout",
          "text": [
            "Future value:  12722.79\n"
          ]
        }
      ]
    },
    {
      "cell_type": "markdown",
      "source": [
        "**Solution to Problem 7**"
      ],
      "metadata": {
        "id": "9v6VMbU-WpBy"
      }
    },
    {
      "cell_type": "code",
      "source": [
        "arr = [0,0,1,1,2,2,3,3,4,4,4]\n",
        "\n",
        "# Using set() to remove duplicates\n",
        "unique_nums = list(set(arr))\n",
        "\n",
        "print(\"The list of unique numbers:\", unique_nums)\n",
        "print(\"Length of the unique list:\", len(unique_nums))\n"
      ],
      "metadata": {
        "colab": {
          "base_uri": "https://localhost:8080/"
        },
        "id": "cAgfRNuLWpM0",
        "outputId": "819fe0fc-07ef-41ba-831f-df707cc1c4dc"
      },
      "execution_count": 6,
      "outputs": [
        {
          "output_type": "stream",
          "name": "stdout",
          "text": [
            "The list of unique numbers: [0, 1, 2, 3, 4]\n",
            "Length of the unique list: 5\n"
          ]
        }
      ]
    },
    {
      "cell_type": "markdown",
      "source": [
        "**Solution to Problem 8**"
      ],
      "metadata": {
        "id": "RPyIbf89XJ7O"
      }
    },
    {
      "cell_type": "code",
      "source": [
        "# Sample dictionary\n",
        "d = {'apple': 3, 'banana': 1, 'cherry': 2}\n",
        "\n",
        "# Sorting dictionary by key in ascending order\n",
        "asc_dict = dict(sorted(d.items()))\n",
        "\n",
        "# Sorting dictionary by key in descending order\n",
        "desc_dict = dict(sorted(d.items(), reverse=True))\n",
        "\n",
        "print(\"Original dictionary:\", d)\n",
        "print(\"Dictionary sorted by key in ascending order:\", asc_dict)\n",
        "print(\"Dictionary sorted by key in descending order:\", desc_dict)\n"
      ],
      "metadata": {
        "colab": {
          "base_uri": "https://localhost:8080/"
        },
        "id": "q0XRXjzgW-zn",
        "outputId": "1386efe4-55dd-428a-fe08-8aaf6a91a322"
      },
      "execution_count": 7,
      "outputs": [
        {
          "output_type": "stream",
          "name": "stdout",
          "text": [
            "Original dictionary: {'apple': 3, 'banana': 1, 'cherry': 2}\n",
            "Dictionary sorted by key in ascending order: {'apple': 3, 'banana': 1, 'cherry': 2}\n",
            "Dictionary sorted by key in descending order: {'cherry': 2, 'banana': 1, 'apple': 3}\n"
          ]
        }
      ]
    },
    {
      "cell_type": "markdown",
      "source": [
        "**Solution to Problem 9**"
      ],
      "metadata": {
        "id": "JkvWcryDXgWP"
      }
    },
    {
      "cell_type": "code",
      "source": [
        "# Sample dictionary\n",
        "d = {0: 10, 1: 20}\n",
        "\n",
        "# Adding a new key-value pair to the dictionary\n",
        "d[2] = 30\n",
        "\n",
        "print(\"Original dictionary:\", d)\n"
      ],
      "metadata": {
        "colab": {
          "base_uri": "https://localhost:8080/"
        },
        "id": "I0ZKkuNTXghH",
        "outputId": "84f87c5f-bcdc-42e5-c697-f2a87edebb53"
      },
      "execution_count": 8,
      "outputs": [
        {
          "output_type": "stream",
          "name": "stdout",
          "text": [
            "Original dictionary: {0: 10, 1: 20, 2: 30}\n"
          ]
        }
      ]
    },
    {
      "cell_type": "markdown",
      "source": [
        "**Solution to Problem 10**"
      ],
      "metadata": {
        "id": "x3YyroD8X6_g"
      }
    },
    {
      "cell_type": "code",
      "source": [
        "import pandas as pd\n",
        "import numpy as np\n",
        "\n",
        "# Sample dictionary data and index labels\n",
        "exam_data = {'name': ['Arif', 'Asir', 'Arik', 'Anis', 'Anil', 'Ashish', 'Anahi', 'Alia', 'Alvin', 'Asim'],\n",
        "             'score': [12.5, 9, 16.5, np.nan, 9, 20, 14.5, np.nan, 8, 19],\n",
        "             'attempts': [1, 3, 2, 3, 2, 3, 1, 1, 2, 1],\n",
        "             'qualify': ['yes', 'no', 'yes', 'no', 'no', 'yes', 'yes', 'no', 'no', 'yes']}\n",
        "labels = ['a', 'b', 'c', 'd', 'e', 'f', 'g', 'h', 'i', 'j']\n",
        "\n",
        "# Creating a DataFrame from the dictionary with index labels\n",
        "df = pd.DataFrame(exam_data, index=labels)\n",
        "\n",
        "# Displaying the DataFrame\n",
        "print(df)\n"
      ],
      "metadata": {
        "colab": {
          "base_uri": "https://localhost:8080/"
        },
        "id": "jiYhCpGuX7LS",
        "outputId": "4e935c92-84c5-4d5f-cd1f-5e471d2ca81d"
      },
      "execution_count": 10,
      "outputs": [
        {
          "output_type": "stream",
          "name": "stdout",
          "text": [
            "     name  score  attempts qualify\n",
            "a    Arif   12.5         1     yes\n",
            "b    Asir    9.0         3      no\n",
            "c    Arik   16.5         2     yes\n",
            "d    Anis    NaN         3      no\n",
            "e    Anil    9.0         2      no\n",
            "f  Ashish   20.0         3     yes\n",
            "g   Anahi   14.5         1     yes\n",
            "h    Alia    NaN         1      no\n",
            "i   Alvin    8.0         2      no\n",
            "j    Asim   19.0         1     yes\n"
          ]
        }
      ]
    }
  ]
}